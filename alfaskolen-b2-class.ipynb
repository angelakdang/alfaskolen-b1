{
 "cells": [
  {
   "cell_type": "code",
   "execution_count": 63,
   "metadata": {},
   "outputs": [],
   "source": [
    "import pandas as pd\n",
    "from datetime import datetime\n",
    "from datetime import timedelta"
   ]
  },
  {
   "cell_type": "code",
   "execution_count": 102,
   "metadata": {},
   "outputs": [],
   "source": [
    "# Load CSV\n",
    "df = pd.read_csv(\"alfaskolen-b2.csv\")\n",
    "\n",
    "# Lesson ID\n",
    "df[\"id\"] = df.apply(lambda x: str(x.domenenummer)+\".\"+str(x.temanummer)+\".\"+str(x.leksonnummer), axis=1)\n",
    "\n",
    "def getSchedule(year, month, day, goal):\n",
    "    # Determine Schedule\n",
    "    startDate = datetime(year, month, day)\n",
    "    perDay = goal\n",
    "    day =0\n",
    "    schedule = []\n",
    "\n",
    "    for i in range(len(df)):\n",
    "        if i%perDay == perDay-1:\n",
    "            day+=1\n",
    "        date = startDate + timedelta(days=day)\n",
    "\n",
    "        if date.weekday() >= 5:\n",
    "            day+=2\n",
    "        date = startDate + timedelta(days=day)\n",
    "\n",
    "        #print(day, date)\n",
    "        schedule.append(date)\n",
    "    \n",
    "    df[\"schedule\"] = schedule"
   ]
  },
  {
   "cell_type": "code",
   "execution_count": 113,
   "metadata": {},
   "outputs": [],
   "source": [
    "getSchedule(2020,3,6,5)"
   ]
  },
  {
   "cell_type": "code",
   "execution_count": 114,
   "metadata": {},
   "outputs": [],
   "source": [
    "df.to_excel(\"alfaskolen-b2-schedule.xlsx\")"
   ]
  },
  {
   "cell_type": "code",
   "execution_count": null,
   "metadata": {},
   "outputs": [],
   "source": []
  }
 ],
 "metadata": {
  "kernelspec": {
   "display_name": "Python 3",
   "language": "python",
   "name": "python3"
  },
  "language_info": {
   "codemirror_mode": {
    "name": "ipython",
    "version": 3
   },
   "file_extension": ".py",
   "mimetype": "text/x-python",
   "name": "python",
   "nbconvert_exporter": "python",
   "pygments_lexer": "ipython3",
   "version": "3.7.4"
  }
 },
 "nbformat": 4,
 "nbformat_minor": 2
}
